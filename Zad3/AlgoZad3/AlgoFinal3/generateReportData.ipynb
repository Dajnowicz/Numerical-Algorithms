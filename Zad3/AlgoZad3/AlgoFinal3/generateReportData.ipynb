{
 "cells": [
  {
   "cell_type": "code",
   "execution_count": 1,
   "metadata": {},
   "outputs": [],
   "source": [
    "import pandas as pd\n",
    "data = pd.read_csv('processed_data.csv',sep=';')"
   ]
  },
  {
   "cell_type": "markdown",
   "metadata": {},
   "source": [
    "# przydatność implementowanej metody dla testowanych danych i obranych parametrów¶"
   ]
  },
  {
   "cell_type": "code",
   "execution_count": 5,
   "metadata": {
    "scrolled": false
   },
   "outputs": [
    {
     "ename": "NameError",
     "evalue": "name 'test_data' is not defined",
     "output_type": "error",
     "traceback": [
      "\u001b[1;31m---------------------------------------------------------------------------\u001b[0m",
      "\u001b[1;31mNameError\u001b[0m                                 Traceback (most recent call last)",
      "\u001b[1;32m<ipython-input-5-29662dfbb54e>\u001b[0m in \u001b[0;36m<module>\u001b[1;34m\u001b[0m\n\u001b[0;32m     22\u001b[0m     \u001b[0moutput_html\u001b[0m \u001b[1;33m+=\u001b[0m \u001b[1;34m\"<tr>\"\u001b[0m\u001b[1;33m\u001b[0m\u001b[1;33m\u001b[0m\u001b[0m\n\u001b[0;32m     23\u001b[0m     \u001b[1;32mfor\u001b[0m \u001b[0mj\u001b[0m \u001b[1;32min\u001b[0m \u001b[0mrange\u001b[0m\u001b[1;33m(\u001b[0m\u001b[0mrating\u001b[0m\u001b[1;33m.\u001b[0m\u001b[0mshape\u001b[0m\u001b[1;33m[\u001b[0m\u001b[1;36m1\u001b[0m\u001b[1;33m]\u001b[0m\u001b[1;33m)\u001b[0m\u001b[1;33m:\u001b[0m\u001b[1;33m\u001b[0m\u001b[1;33m\u001b[0m\u001b[0m\n\u001b[1;32m---> 24\u001b[1;33m         \u001b[0mwas_predicted\u001b[0m \u001b[1;33m=\u001b[0m \u001b[0mtest_data\u001b[0m\u001b[1;33m[\u001b[0m\u001b[0mi\u001b[0m\u001b[1;33m]\u001b[0m\u001b[1;33m[\u001b[0m\u001b[0mj\u001b[0m\u001b[1;33m]\u001b[0m \u001b[1;33m!=\u001b[0m \u001b[1;36m0\u001b[0m\u001b[1;33m\u001b[0m\u001b[1;33m\u001b[0m\u001b[0m\n\u001b[0m\u001b[0;32m     25\u001b[0m \u001b[1;33m\u001b[0m\u001b[0m\n\u001b[0;32m     26\u001b[0m         output_html += \"<td style='color: {color};font-size: 15px;'>{ratingValue:.2f} | {predictedValue:.2f}</td>\".format(\n",
      "\u001b[1;31mNameError\u001b[0m: name 'test_data' is not defined"
     ]
    }
   ],
   "source": [
    "from IPython.display import HTML, display\n",
    "from ALSAlgorithm import ALS\n",
    "from processData import sort, create_data, get_time_and_result\n",
    "from objectiveFunction import objectiveFunction\n",
    "\n",
    "import numpy as np\n",
    "import pandas as pd\n",
    "\n",
    "rating = sort(df=data, category='Music', users=10, products=10, sort_user=True)\n",
    "train, test = create_data(rating, testSize = 20)\n",
    "\n",
    "als = ALS(R=train, d=3, reg=0.1)\n",
    "\n",
    "val = als.solve(80)\n",
    "\n",
    "predicted = als.prediction()\n",
    "\n",
    "output_html = \"\";\n",
    "output_html += \"<table>\"\n",
    "\n",
    "for i in range(rating.shape[0]):\n",
    "    output_html += \"<tr>\"\n",
    "    for j in range(rating.shape[1]):\n",
    "        was_predicted = test[i][j] != 0\n",
    "        \n",
    "        output_html += \"<td style='color: {color};font-size: 15px;'>{ratingValue:.2f} | {predictedValue:.2f}</td>\".format(\n",
    "            ratingValue=rating[i][j], predictedValue=predicted[i][j], color='#FF00FF' if was_predicted else '#FFFFFF'\n",
    "        )\n",
    "    \n",
    "    output_html += \"</tr>\"\n",
    "\n",
    "output_html += \"</table>\"\n",
    "display(HTML(output_html))\n"
   ]
  },
  {
   "cell_type": "markdown",
   "metadata": {},
   "source": [
    "# tempo zbieżności metody ALS w zależności od obranych parametrów"
   ]
  },
  {
   "cell_type": "code",
   "execution_count": null,
   "metadata": {},
   "outputs": [],
   "source": [
    "from generateDataForTask import *\n",
    "\n",
    "data_40_Users_20_Products = generate_data_for_second_task(data,40,20)\n",
    "data_400_Users_200_products = generate_data_for_second_task(data,400,200)\n",
    "data_500_Users_1000_products = generate_data_for_second_task(data,500,1000)"
   ]
  },
  {
   "cell_type": "code",
   "execution_count": 24,
   "metadata": {},
   "outputs": [],
   "source": [
    "from generateDataForTask import *\n",
    "\n",
    "dataFirst = generate_data_for_first_task(data,40,20,fileName='output1.csv')\n",
    "dataSecond = generate_data_for_first_task(data,400,200,fileName='output2.csv')\n",
    "dataThird = generate_data_for_first_task(data,500,1000, fileName=\"output3.csv\")"
   ]
  },
  {
   "cell_type": "markdown",
   "metadata": {},
   "source": [
    "# wpływ parametru d na jakość stworzonych rekomendacji i czas obliczeń"
   ]
  },
  {
   "cell_type": "code",
   "execution_count": 25,
   "metadata": {},
   "outputs": [
    {
     "ename": "NameError",
     "evalue": "name 'data_40_Users_20_Products' is not defined",
     "output_type": "error",
     "traceback": [
      "\u001b[1;31m---------------------------------------------------------------------------\u001b[0m",
      "\u001b[1;31mNameError\u001b[0m                                 Traceback (most recent call last)",
      "\u001b[1;32m<ipython-input-25-03fe317e32b6>\u001b[0m in \u001b[0;36m<module>\u001b[1;34m\u001b[0m\n\u001b[1;32m----> 1\u001b[1;33m \u001b[0mdata_40_Users_20_Products\u001b[0m\u001b[1;33m\u001b[0m\u001b[1;33m\u001b[0m\u001b[0m\n\u001b[0m\u001b[0;32m      2\u001b[0m \u001b[0mdata_400_Users_200_products\u001b[0m\u001b[1;33m\u001b[0m\u001b[1;33m\u001b[0m\u001b[0m\n\u001b[0;32m      3\u001b[0m \u001b[0mdata_500_Users_1000_products\u001b[0m\u001b[1;33m\u001b[0m\u001b[1;33m\u001b[0m\u001b[0m\n",
      "\u001b[1;31mNameError\u001b[0m: name 'data_40_Users_20_Products' is not defined"
     ]
    }
   ],
   "source": [
    "from generateDataForTask import *\n",
    "\n",
    "data_40_Users_20_Products = generate_data_for_second_task(data,40,20)\n",
    "data_400_Users_200_products = generate_data_for_second_task(data,400,200)\n",
    "data_500_Users_1000_products = generate_data_for_second_task(data,500,1000)"
   ]
  },
  {
   "cell_type": "code",
   "execution_count": 7,
   "metadata": {},
   "outputs": [
    {
     "data": {
      "text/plain": [
       "<Figure size 1280x720 with 1 Axes>"
      ]
     },
     "metadata": {},
     "output_type": "display_data"
    }
   ],
   "source": [
    "import matplotlib.pyplot as plt\n",
    "\n",
    "axis_x = (2, 3,5 ,8 ,13 ,21, 25, 28)\n",
    "plt.figure(figsize=(16, 9), dpi= 80)\n",
    "firstTime=[]\n",
    "secondTime=[]\n",
    "thirdTime=[]\n",
    "for i in range(0, 8):\n",
    "    firstTime.append(data_40_Users_20_Products[i]['time'])\n",
    "    secondTime.append(data_400_Users_200_products[i]['time'])\n",
    "    thirdTime.append(data_500_Users_1000_products[i]['time'])\n",
    "\n",
    "plt.plot(axis_x, firstTime, color=\"black\", label='Macierz 40x20')\n",
    "plt.plot(axis_x, secondTime, color =\"red\", label='Macierz 400x200')\n",
    "plt.plot(axis_x, thirdTime, color=\"purple\",label='Macierz 1000x500')\n",
    "\n",
    "    \n",
    "plt.legend()\n",
    "plt.yscale('symlog')\n",
    "plt.xlabel('d')\n",
    "plt.ylabel('czas(s)')\n",
    "plt.title('Czas wykonywania metody ALS w zależności od parametru d dla lamda = 0.1')\n",
    "plt.savefig('time.png')\n",
    "plt.show()\n"
   ]
  },
  {
   "cell_type": "code",
   "execution_count": 8,
   "metadata": {},
   "outputs": [
    {
     "data": {
      "image/png": "[encoded data removed]",
      "text/plain": [
       "<Figure size 1280x720 with 1 Axes>"
      ]
     },
     "metadata": {
      "needs_background": "light"
     },
     "output_type": "display_data"
    }
   ],
   "source": [
    "firstObjValues=[]\n",
    "secondObjValues=[]\n",
    "thirdObjValues=[]\n",
    "\n",
    "for i in range(0, 8):\n",
    "    firstObjValues.append(data_40_Users_20_Products[i]['obj_values'])\n",
    "    secondObjValues.append(data_400_Users_200_products[i]['obj_values'])\n",
    "    thirdObjValues.append(data_500_Users_1000_products[i]['obj_values'])\n",
    "\n",
    "axis_x = (2, 3,5 ,8 ,13 ,21, 25, 28)\n",
    "\n",
    "plt.figure(figsize=(16, 9), dpi= 80)\n",
    "plt.plot(axis_x, firstObjValues, color=\"black\", label='Macierz 40x20')\n",
    "plt.plot(axis_x, secondObjValues,color =\"red\", label='Macierz 400x200')\n",
    "plt.plot(axis_x, thirdObjValues, color=\"purple\", label='Macierz 1000x500')\n",
    "\n",
    "plt.legend()\n",
    "plt.yscale('symlog')\n",
    "plt.xlabel('d')\n",
    "plt.ylabel('Funkcja celu')\n",
    "plt.title('Funkcja celu dla danych testowych zależnych od parametru d')\n",
    "plt.savefig('objectiveFunction.png')\n",
    "plt.show()\n"
   ]
  }
 ],
 "metadata": {
  "celltoolbar": "Tags",
  "kernelspec": {
   "display_name": "Python 3",
   "language": "python",
   "name": "python3"
  },
  "language_info": {
   "codemirror_mode": {
    "name": "ipython",
    "version": 3
   },
   "file_extension": ".py",
   "mimetype": "text/x-python",
   "name": "python",
   "nbconvert_exporter": "python",
   "pygments_lexer": "ipython3",
   "version": "3.7.4"
  }
 },
 "nbformat": 4,
 "nbformat_minor": 2
}
