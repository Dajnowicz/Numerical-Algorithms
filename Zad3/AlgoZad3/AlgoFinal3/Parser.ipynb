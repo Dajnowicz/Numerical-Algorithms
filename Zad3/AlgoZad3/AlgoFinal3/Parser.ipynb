{
 "cells": [
  {
   "cell_type": "code",
   "execution_count": 200,
   "metadata": {},
   "outputs": [],
   "source": [
    "import re\n",
    "import math\n",
    "from collections import defaultdict\n",
    "from datetime import datetime\n",
    "import pandas as pd\n",
    "from timeit import default_timer as timer\n",
    "import numpy as np\n",
    "import tqdm"
   ]
  },
  {
   "cell_type": "code",
   "execution_count": 205,
   "metadata": {},
   "outputs": [],
   "source": [
    "TITLE = re.compile(r'title:\\s*(.*)')\n",
    "REV =  re.compile(r'rating:\\s*(\\d+)\\s* votes')\n",
    "COS = re.compile(r'cutomer:\\s*(\\w+)')\n",
    "ID = re.compile(r'Id:\\s*(\\d+)')\n",
    "CATEGORY = re.compile(r'[\\s]*\\|([a-zA-Z ]+)\\[[\\d]+\\]\\|')\n",
    "REVIEW = re.compile(r'[\\d]{4}-[\\d]{1,2}-[\\d]{1,2}[\\s]+cutomer:[\\s]+([\\w\\d]+)[\\s]+rating:[\\s]([\\d]+)')\n",
    "\n",
    "ASIN =re.compile( r'ASIN:\\s*\\d+')\n",
    "CID = re.compile(r'cutomer:\\s*(\\w+)')\n",
    "DISC = re.compile(r'discontinued product')\n",
    "CSIZE = re.compile(r'reviews total\\s*(\\d+)')"
   ]
  },
  {
   "cell_type": "code",
   "execution_count": 199,
   "metadata": {
    "scrolled": true
   },
   "outputs": [
    {
     "name": "stderr",
     "output_type": "stream",
     "text": [
      "100%|██████████████████████████████████████████████████████████████████| 15010567/15010567 [01:00<00:00, 248770.74it/s]\n"
     ]
    }
   ],
   "source": [
    "product_reviews = {}\n",
    "df = pd.DataFrame() \n",
    "f = open('amazon-meta.txt', 'r',encoding=\"utf8\")\n",
    "data = open('data.csv', 'w')\n",
    "\n",
    "l = f.readlines()\n",
    "write_to_file = False\n",
    "cate = False\n",
    "\n",
    "data.write('{};{};{};{}\\n'.format('prod', 'cust', 'mark', 'cat'))\n",
    "for l in tqdm.tqdm(l[7:]):\n",
    "    l: str = l.strip()\n",
    "    #pusta linia\n",
    "    if not l:\n",
    "        write_to_file = False\n",
    "        category = None\n",
    "        continue\n",
    "        \n",
    "    #czytanie id\n",
    "    if l.startswith('Id:'):\n",
    "        matched = ID.search(l)\n",
    "        product_id = matched.groups()[0]\n",
    "        continue\n",
    "    \n",
    "    #czytanie tytulu\n",
    "    if l.startswith('title:'):\n",
    "        matched = TITLE.search(l)\n",
    "        product_title = matched.groups()[0]\n",
    "        continue\n",
    "    \n",
    "    #ma kategorie\n",
    "    if l.startswith('categories'):\n",
    "        is_category_block = True\n",
    "        continue\n",
    "\n",
    "    #ma reviews\n",
    "    if l.startswith('reviews'):\n",
    "        write_to_file = True\n",
    "        cate = False\n",
    "        continue\n",
    "\n",
    "    #czytanie kategorii\n",
    "    if cate and not category:\n",
    "        matched = CATEGORY_PATTERN.search(line)\n",
    "        if matched:\n",
    "            cats = matched.groups()[0]\n",
    "            if cats != 'Categories':\n",
    "                category = matched.groups()[0]\n",
    "        continue\n",
    "\n",
    "    if write_to_file:\n",
    "        matched = REVIEW.search(line)\n",
    "        user_id, review = matched.groups()\n",
    "        data.write('{};{};{};{}\\n'.format(product_id, user_id, review, category))"
   ]
  },
  {
   "cell_type": "code",
   "execution_count": 383,
   "metadata": {},
   "outputs": [],
   "source": [
    "df = pd.read_csv('data_final.csv', sep=';')"
   ]
  },
  {
   "cell_type": "code",
   "execution_count": 384,
   "metadata": {},
   "outputs": [
    {
     "data": {
      "text/html": [
       "<div>\n",
       "<style scoped>\n",
       "    .dataframe tbody tr th:only-of-type {\n",
       "        vertical-align: middle;\n",
       "    }\n",
       "\n",
       "    .dataframe tbody tr th {\n",
       "        vertical-align: top;\n",
       "    }\n",
       "\n",
       "    .dataframe thead th {\n",
       "        text-align: right;\n",
       "    }\n",
       "</style>\n",
       "<table border=\"1\" class=\"dataframe\">\n",
       "  <thead>\n",
       "    <tr style=\"text-align: right;\">\n",
       "      <th></th>\n",
       "      <th>product_id</th>\n",
       "      <th>customer_id</th>\n",
       "      <th>review</th>\n",
       "      <th>category</th>\n",
       "    </tr>\n",
       "  </thead>\n",
       "  <tbody>\n",
       "    <tr>\n",
       "      <th>0</th>\n",
       "      <td>1</td>\n",
       "      <td>A2JW67OY8U6HHK</td>\n",
       "      <td>5</td>\n",
       "      <td>Books</td>\n",
       "    </tr>\n",
       "    <tr>\n",
       "      <th>1</th>\n",
       "      <td>1</td>\n",
       "      <td>A2VE83MZF98ITY</td>\n",
       "      <td>5</td>\n",
       "      <td>Books</td>\n",
       "    </tr>\n",
       "    <tr>\n",
       "      <th>2</th>\n",
       "      <td>2</td>\n",
       "      <td>A11NCO6YTE4BTJ</td>\n",
       "      <td>5</td>\n",
       "      <td>Books</td>\n",
       "    </tr>\n",
       "    <tr>\n",
       "      <th>3</th>\n",
       "      <td>2</td>\n",
       "      <td>A9CQ3PLRNIR83</td>\n",
       "      <td>4</td>\n",
       "      <td>Books</td>\n",
       "    </tr>\n",
       "    <tr>\n",
       "      <th>4</th>\n",
       "      <td>2</td>\n",
       "      <td>A13SG9ACZ9O5IM</td>\n",
       "      <td>5</td>\n",
       "      <td>Books</td>\n",
       "    </tr>\n",
       "    <tr>\n",
       "      <th>...</th>\n",
       "      <td>...</td>\n",
       "      <td>...</td>\n",
       "      <td>...</td>\n",
       "      <td>...</td>\n",
       "    </tr>\n",
       "    <tr>\n",
       "      <th>7593239</th>\n",
       "      <td>548549</td>\n",
       "      <td>A2PD80S1N7920J</td>\n",
       "      <td>4</td>\n",
       "      <td>Books</td>\n",
       "    </tr>\n",
       "    <tr>\n",
       "      <th>7593240</th>\n",
       "      <td>548550</td>\n",
       "      <td>A3NKS7CVEJVTQ6</td>\n",
       "      <td>5</td>\n",
       "      <td>DVD</td>\n",
       "    </tr>\n",
       "    <tr>\n",
       "      <th>7593241</th>\n",
       "      <td>548550</td>\n",
       "      <td>A3EQ4YAZ5OEVK9</td>\n",
       "      <td>5</td>\n",
       "      <td>DVD</td>\n",
       "    </tr>\n",
       "    <tr>\n",
       "      <th>7593242</th>\n",
       "      <td>548550</td>\n",
       "      <td>A3HRK7C6LL7CRI</td>\n",
       "      <td>5</td>\n",
       "      <td>DVD</td>\n",
       "    </tr>\n",
       "    <tr>\n",
       "      <th>7593243</th>\n",
       "      <td>548551</td>\n",
       "      <td>ABTSEEYVYQ52M</td>\n",
       "      <td>5</td>\n",
       "      <td>Music</td>\n",
       "    </tr>\n",
       "  </tbody>\n",
       "</table>\n",
       "<p>7593244 rows × 4 columns</p>\n",
       "</div>"
      ],
      "text/plain": [
       "         product_id     customer_id  review category\n",
       "0                 1  A2JW67OY8U6HHK       5    Books\n",
       "1                 1  A2VE83MZF98ITY       5    Books\n",
       "2                 2  A11NCO6YTE4BTJ       5    Books\n",
       "3                 2   A9CQ3PLRNIR83       4    Books\n",
       "4                 2  A13SG9ACZ9O5IM       5    Books\n",
       "...             ...             ...     ...      ...\n",
       "7593239      548549  A2PD80S1N7920J       4    Books\n",
       "7593240      548550  A3NKS7CVEJVTQ6       5      DVD\n",
       "7593241      548550  A3EQ4YAZ5OEVK9       5      DVD\n",
       "7593242      548550  A3HRK7C6LL7CRI       5      DVD\n",
       "7593243      548551   ABTSEEYVYQ52M       5    Music\n",
       "\n",
       "[7593244 rows x 4 columns]"
      ]
     },
     "execution_count": 384,
     "metadata": {},
     "output_type": "execute_result"
    }
   ],
   "source": [
    "df"
   ]
  },
  {
   "cell_type": "code",
   "execution_count": 387,
   "metadata": {},
   "outputs": [],
   "source": [
    "def sort(df= pd.DataFrame, category = 'Books', users= 100, products = 10, sort_user = False):\n",
    "    #wybranie jednej kategorii\n",
    "    one_cat = df[df.category == category]\n",
    "    #wybranie produktow ktore maja najwiecej reviews\n",
    "    naj_prod = one_cat[one_cat.product_id.isin(one_cat.groupby(by='product_id').count().sort_values('review', ascending=False).index[:products].tolist())]\n",
    "    \n",
    "    #znalezenie osob ktore daly najwiecej revsow\n",
    "    ids_most_active_users_of_category = naj_prod.groupby('customer_id').count()\n",
    "    \n",
    "    #posortowanie ludzi z najwieksza iloscia revsow\n",
    "    if sort_user:\n",
    "        ids_most_active_users_of_category = ids_most_active_users_of_category.sort_values('review', ascending=False)\n",
    "    \n",
    "    #pivot na tabelce\n",
    "    pivot_table = pd.pivot_table(naj_prod[naj_prod.customer_id.isin(ids_most_active_users_of_category.index[:users].tolist())], values=['review'], columns=['product_id'], index=['customer_id'], aggfunc='first', fill_value=0)\n",
    "    rates = pivot_table['review'].values\n",
    "    return rates"
   ]
  },
  {
   "cell_type": "code",
   "execution_count": 392,
   "metadata": {},
   "outputs": [],
   "source": [
    "rates = sort(df, category='Books', users=10, products=10, sort_user=False)"
   ]
  },
  {
   "cell_type": "code",
   "execution_count": 393,
   "metadata": {},
   "outputs": [
    {
     "data": {
      "text/plain": [
       "array([[0, 4, 4, 4, 4, 4, 0, 0, 4, 4],\n",
       "       [0, 5, 5, 5, 5, 5, 0, 0, 5, 5],\n",
       "       [4, 0, 0, 0, 0, 0, 4, 4, 0, 0],\n",
       "       [4, 0, 0, 0, 0, 0, 4, 4, 0, 0],\n",
       "       [0, 5, 5, 5, 5, 5, 0, 0, 5, 5],\n",
       "       [5, 0, 0, 0, 0, 0, 5, 5, 0, 0],\n",
       "       [4, 0, 0, 0, 0, 0, 4, 4, 0, 0],\n",
       "       [0, 5, 5, 5, 5, 5, 0, 0, 5, 5],\n",
       "       [5, 0, 0, 0, 0, 0, 5, 5, 0, 0],\n",
       "       [4, 0, 0, 0, 0, 0, 4, 4, 0, 0]], dtype=int64)"
      ]
     },
     "execution_count": 393,
     "metadata": {},
     "output_type": "execute_result"
    }
   ],
   "source": [
    "rates"
   ]
  }
 ],
 "metadata": {
  "kernelspec": {
   "display_name": "Python 3",
   "language": "python",
   "name": "python3"
  },
  "language_info": {
   "codemirror_mode": {
    "name": "ipython",
    "version": 3
   },
   "file_extension": ".py",
   "mimetype": "text/x-python",
   "name": "python",
   "nbconvert_exporter": "python",
   "pygments_lexer": "ipython3",
   "version": "3.7.3"
  }
 },
 "nbformat": 4,
 "nbformat_minor": 2
}
